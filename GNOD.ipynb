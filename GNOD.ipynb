{
 "cells": [
  {
   "cell_type": "markdown",
   "id": "021fccd1",
   "metadata": {},
   "source": [
    "# GNOD PROJECT"
   ]
  },
  {
   "cell_type": "markdown",
   "id": "51347985",
   "metadata": {},
   "source": [
    "### Goals:\n",
    "> To improve our music recommender Gnoosic by giving users two new possibilities when searching for recommendations:\\\n",
    ">\\\n",
    "> 1-) Songs that are actually similar to the ones they picked from an acoustic point of view.\\\n",
    "> 2-) Songs that are popular around the world right now, independently from their tastes.\n",
    ">\n",
    "### How:\n",
    "> 1-) Collect new data sources for songs; APIs and/or web scrapping.\\\n",
    "> 2-) Create clusters of songs that are similar to each other.\\\n",
    "> 3-) Prioritize the recommendations of songs from that same group."
   ]
  },
  {
   "cell_type": "markdown",
   "id": "847b543e",
   "metadata": {},
   "source": [
    "## GNOD PROJECT PART 1"
   ]
  },
  {
   "cell_type": "code",
   "execution_count": 1,
   "id": "1f0cf129",
   "metadata": {},
   "outputs": [],
   "source": [
    "import requests\n",
    "\n",
    "from bs4 import BeautifulSoup\n",
    "\n",
    "import pandas as pd"
   ]
  },
  {
   "cell_type": "code",
   "execution_count": 2,
   "id": "cabd26a5",
   "metadata": {},
   "outputs": [],
   "source": [
    "url='https://www.popvortex.com/music/charts/top-100-songs.php'\n",
    "\n",
    "response = requests.get(url)\n",
    "response.status_code "
   ]
  },
  {
   "cell_type": "code",
   "execution_count": 4,
   "id": "b57b42d4",
   "metadata": {},
   "outputs": [],
   "source": [
    "soup = BeautifulSoup(response.content, \"html.parser\")"
   ]
  },
  {
   "cell_type": "code",
   "execution_count": 5,
   "id": "5e8c1744",
   "metadata": {},
   "outputs": [],
   "source": [
    "#soup"
   ]
  },
  {
   "cell_type": "code",
   "execution_count": 6,
   "id": "e82c3139",
   "metadata": {},
   "outputs": [
    {
     "data": {
      "text/plain": [
       "[<p class=\"title-artist\"><cite class=\"title\">Like Crazy (Deep House Remix)</cite><em class=\"artist\">Jimin</em></p>]"
      ]
     },
     "execution_count": 6,
     "metadata": {},
     "output_type": "execute_result"
    }
   ],
   "source": [
    "soup.select(\"#chart-position-1 > div.chart-content.col-xs-12.col-sm-8 > p\")  # copy SELECTOR\n",
    "\n",
    "soup.select('#chart-position-1 > div.chart-content.col-xs-12.col-sm-8 > p > cite')[0].get_text()\n",
    "\n",
    "# Selection of Song\n",
    "soup.select('div.chart-content.col-xs-12.col-sm-8 > p > cite')[1].get_text() \n",
    "\n",
    "# Selection of Artist\n",
    "soup.select('#chart-position-1 > div.chart-content.col-xs-12.col-sm-8 > p > em')[0].get_text()"
   ]
  },
  {
   "cell_type": "code",
   "execution_count": 10,
   "id": "86672ece",
   "metadata": {},
   "outputs": [],
   "source": [
    "# Creating empty lists\n",
    "title = []\n",
    "artist = []\n",
    "\n",
    "# Assigning the whole selection of Song & Artist\n",
    "num_iter = len(soup.select('div.chart-content.col-xs-12.col-sm-8 > p'))\n",
    "\n",
    "\n",
    "\n",
    "num_iter\n",
    "\n",
    "# Separating the song and artist\n",
    "title_list = soup.select('div.chart-content.col-xs-12.col-sm-8 > p > cite')\n",
    "artist_list = soup.select('div.chart-content.col-xs-12.col-sm-8 > p > em')\n",
    "\n",
    "\n",
    "# iterate through the result set and retrive all the data\n",
    "for i in range(num_iter):\n",
    "    title.append(title_list[i].get_text())\n",
    "    artist.append(artist_list[i].get_text())\n",
    "\n",
    "#print(title)\n",
    "#print(artist)"
   ]
  },
  {
   "cell_type": "code",
   "execution_count": 15,
   "id": "2cecfe3c",
   "metadata": {},
   "outputs": [],
   "source": [
    "# Storing it to a dataframe\n",
    "top100 = pd.DataFrame({\"song\":title,\"artist\":artist})"
   ]
  },
  {
   "cell_type": "code",
   "execution_count": 16,
   "id": "9cc4fc39",
   "metadata": {},
   "outputs": [
    {
     "data": {
      "text/html": [
       "<div>\n",
       "<style scoped>\n",
       "    .dataframe tbody tr th:only-of-type {\n",
       "        vertical-align: middle;\n",
       "    }\n",
       "\n",
       "    .dataframe tbody tr th {\n",
       "        vertical-align: top;\n",
       "    }\n",
       "\n",
       "    .dataframe thead th {\n",
       "        text-align: right;\n",
       "    }\n",
       "</style>\n",
       "<table border=\"1\" class=\"dataframe\">\n",
       "  <thead>\n",
       "    <tr style=\"text-align: right;\">\n",
       "      <th></th>\n",
       "      <th>song</th>\n",
       "      <th>artist</th>\n",
       "    </tr>\n",
       "  </thead>\n",
       "  <tbody>\n",
       "    <tr>\n",
       "      <th>0</th>\n",
       "      <td>Like Crazy (Deep House Remix)</td>\n",
       "      <td>Jimin</td>\n",
       "    </tr>\n",
       "    <tr>\n",
       "      <th>1</th>\n",
       "      <td>Flowers</td>\n",
       "      <td>Miley Cyrus</td>\n",
       "    </tr>\n",
       "    <tr>\n",
       "      <th>2</th>\n",
       "      <td>Like Crazy (UK Garage Remix)</td>\n",
       "      <td>Jimin</td>\n",
       "    </tr>\n",
       "    <tr>\n",
       "      <th>3</th>\n",
       "      <td>Last Night</td>\n",
       "      <td>Morgan Wallen</td>\n",
       "    </tr>\n",
       "    <tr>\n",
       "      <th>4</th>\n",
       "      <td>Fast Car</td>\n",
       "      <td>Luke Combs</td>\n",
       "    </tr>\n",
       "    <tr>\n",
       "      <th>...</th>\n",
       "      <td>...</td>\n",
       "      <td>...</td>\n",
       "    </tr>\n",
       "    <tr>\n",
       "      <th>95</th>\n",
       "      <td>Head Above Water</td>\n",
       "      <td>Avril Lavigne</td>\n",
       "    </tr>\n",
       "    <tr>\n",
       "      <th>96</th>\n",
       "      <td>I'm Good (Blue)</td>\n",
       "      <td>David Guetta &amp; Bebe Rexha</td>\n",
       "    </tr>\n",
       "    <tr>\n",
       "      <th>97</th>\n",
       "      <td>Forever and Ever, Amen</td>\n",
       "      <td>Randy Travis</td>\n",
       "    </tr>\n",
       "    <tr>\n",
       "      <th>98</th>\n",
       "      <td>Cowgirls (feat. ERNEST)</td>\n",
       "      <td>Morgan Wallen</td>\n",
       "    </tr>\n",
       "    <tr>\n",
       "      <th>99</th>\n",
       "      <td>If Anything's Left</td>\n",
       "      <td>Jamie Fine</td>\n",
       "    </tr>\n",
       "  </tbody>\n",
       "</table>\n",
       "<p>100 rows × 2 columns</p>\n",
       "</div>"
      ],
      "text/plain": [
       "                             song                     artist\n",
       "0   Like Crazy (Deep House Remix)                      Jimin\n",
       "1                         Flowers                Miley Cyrus\n",
       "2    Like Crazy (UK Garage Remix)                      Jimin\n",
       "3                      Last Night              Morgan Wallen\n",
       "4                        Fast Car                 Luke Combs\n",
       "..                            ...                        ...\n",
       "95               Head Above Water              Avril Lavigne\n",
       "96                I'm Good (Blue)  David Guetta & Bebe Rexha\n",
       "97         Forever and Ever, Amen               Randy Travis\n",
       "98        Cowgirls (feat. ERNEST)              Morgan Wallen\n",
       "99             If Anything's Left                 Jamie Fine\n",
       "\n",
       "[100 rows x 2 columns]"
      ]
     },
     "execution_count": 16,
     "metadata": {},
     "output_type": "execute_result"
    }
   ],
   "source": [
    "top100"
   ]
  },
  {
   "cell_type": "markdown",
   "id": "8e856b1f",
   "metadata": {},
   "source": [
    "#### END OF LAB 1"
   ]
  },
  {
   "cell_type": "markdown",
   "id": "419fa0b7",
   "metadata": {},
   "source": [
    "## GNOD PROJECT PART 2"
   ]
  },
  {
   "cell_type": "code",
   "execution_count": null,
   "id": "db664df1",
   "metadata": {},
   "outputs": [],
   "source": []
  }
 ],
 "metadata": {
  "kernelspec": {
   "display_name": "Python 3 (ipykernel)",
   "language": "python",
   "name": "python3"
  },
  "language_info": {
   "codemirror_mode": {
    "name": "ipython",
    "version": 3
   },
   "file_extension": ".py",
   "mimetype": "text/x-python",
   "name": "python",
   "nbconvert_exporter": "python",
   "pygments_lexer": "ipython3",
   "version": "3.9.13"
  }
 },
 "nbformat": 4,
 "nbformat_minor": 5
}
