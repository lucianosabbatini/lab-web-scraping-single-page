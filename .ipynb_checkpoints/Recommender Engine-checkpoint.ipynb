{
 "cells": [
  {
   "cell_type": "code",
   "execution_count": 10,
   "id": "358568b2",
   "metadata": {},
   "outputs": [],
   "source": [
    "import random\n",
    "import pandas as pd"
   ]
  },
  {
   "cell_type": "code",
   "execution_count": 13,
   "id": "31bd74fe",
   "metadata": {},
   "outputs": [],
   "source": [
    "df=pd.read_csv('spotify_list.csv')\n",
    "popvortex=pd.read_csv('popvortex_hot100.csv')"
   ]
  },
  {
   "cell_type": "code",
   "execution_count": 11,
   "id": "33012ed2",
   "metadata": {},
   "outputs": [],
   "source": [
    "def check_song():\n",
    "    song_name = input('What is the song? ')\n",
    "    if popvortex['Song'].str.contains(song_name, case=False, regex=False).any():\n",
    "        print(\"Great! Here's another hot 100 song for you:\")\n",
    "        popvortex_without_song = popvortex[popvortex['Song']!=song_name]\n",
    "        random_song = popvortex_without_song.sample()\n",
    "        print(f\"'{random_song['Song'].iloc[0]}' by {random_song['Artist'].iloc[0]}.\")\n",
    "    else:\n",
    "        user_input = df[df['Song'].str.contains(song_name, case=False, regex=False)]\n",
    "        if not user_input.empty:\n",
    "            print('Great!. I will search a similar song for you.')\n",
    "            cluster_num = user_input['cluster'].iloc[0]\n",
    "            cluster_songs = df[df['cluster'] == cluster_num]\n",
    "            if not cluster_songs.empty:\n",
    "                random_song = cluster_songs.sample()\n",
    "                print(f\"My recommendation for you is '{random_song['Song'].iloc[0]}' by {random_song['Artist'].iloc[0]}.\")\n",
    "                like = input(\"Did you like the recommended song? (Yes/No) \")\n",
    "                if like.lower() == 'yes':\n",
    "                    print(\"Great! I'm glad you liked it.\")\n",
    "                else:\n",
    "                    print(\"Sorry to hear that. Let's try another recommendation.\")\n",
    "                    check_artist()\n",
    "        else:\n",
    "            check_artist()"
   ]
  },
  {
   "cell_type": "code",
   "execution_count": 14,
   "id": "207eb258",
   "metadata": {},
   "outputs": [
    {
     "name": "stdout",
     "output_type": "stream",
     "text": [
      "What is the song? flowers\n",
      "Great! Here's another hot 100 song for you:\n",
      "'Lavender Haze' by Taylor Swift.\n"
     ]
    }
   ],
   "source": [
    "check_song()"
   ]
  },
  {
   "cell_type": "code",
   "execution_count": null,
   "id": "2423f5e8",
   "metadata": {},
   "outputs": [],
   "source": []
  }
 ],
 "metadata": {
  "kernelspec": {
   "display_name": "Python 3 (ipykernel)",
   "language": "python",
   "name": "python3"
  },
  "language_info": {
   "codemirror_mode": {
    "name": "ipython",
    "version": 3
   },
   "file_extension": ".py",
   "mimetype": "text/x-python",
   "name": "python",
   "nbconvert_exporter": "python",
   "pygments_lexer": "ipython3",
   "version": "3.9.13"
  }
 },
 "nbformat": 4,
 "nbformat_minor": 5
}
