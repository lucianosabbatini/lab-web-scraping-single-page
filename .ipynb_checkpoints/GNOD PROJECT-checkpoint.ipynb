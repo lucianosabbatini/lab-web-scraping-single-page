{
 "cells": [
  {
   "cell_type": "markdown",
   "id": "6f9672b6",
   "metadata": {},
   "source": [
    "# GNOD PROJECT"
   ]
  },
  {
   "cell_type": "markdown",
   "id": "42c8826d",
   "metadata": {},
   "source": [
    "### Goals:\n",
    "> To improve our music recommender Gnoosic by giving users two new possibilities when searching for recommendations:\\\n",
    ">\\\n",
    "> 1-) Songs that are actually similar to the ones they picked from an acoustic point of view.\\\n",
    "> 2-) Songs that are popular around the world right now, independently from their tastes.\n",
    ">\n",
    "### How:\n",
    "> 1-) Collect new data sources for songs; APIs and/or web scrapping.\\\n",
    "> 2-) Create clusters of songs that are similar to each other.\\\n",
    "> 3-) Prioritize the recommendations of songs from that same group."
   ]
  },
  {
   "cell_type": "markdown",
   "id": "2bc9293d",
   "metadata": {},
   "source": [
    "## GNOD PROJECT PART 1"
   ]
  },
  {
   "cell_type": "code",
   "execution_count": 1,
   "id": "f85c09f8",
   "metadata": {},
   "outputs": [],
   "source": [
    "import requests\n",
    "\n",
    "from bs4 import BeautifulSoup\n",
    "\n",
    "import pandas as pd"
   ]
  },
  {
   "cell_type": "code",
   "execution_count": 2,
   "id": "eb809036",
   "metadata": {},
   "outputs": [
    {
     "data": {
      "text/plain": [
       "[<p class=\"title-artist\"><cite class=\"title\">Last Night</cite><em class=\"artist\">Morgan Wallen</em></p>]"
      ]
     },
     "execution_count": 2,
     "metadata": {},
     "output_type": "execute_result"
    }
   ],
   "source": [
    "url='https://www.popvortex.com/music/charts/top-100-songs.php'\n",
    "\n",
    "response = requests.get(url)\n",
    "response.status_code \n",
    "\n",
    "soup = BeautifulSoup(response.content, \"html.parser\")\n",
    "#soup\n",
    "\n",
    "soup.select(\"#chart-position-1 > div.chart-content.col-xs-12.col-sm-8 > p\")  # copy SELECTOR\n"
   ]
  },
  {
   "cell_type": "code",
   "execution_count": 3,
   "id": "cd9a233e",
   "metadata": {},
   "outputs": [],
   "source": [
    "# Creating empty lists\n",
    "title = []\n",
    "artist = []\n",
    "\n",
    "# Assigning the whole selection of Song & Artist\n",
    "num_iter = len(soup.select('div.chart-content.col-xs-12.col-sm-8 > p'))\n",
    "\n",
    "\n",
    "\n",
    "num_iter\n",
    "\n",
    "# Separating the song and artist\n",
    "artist_list = soup.select('div.chart-content.col-xs-12.col-sm-8 > p > em')\n",
    "title_list = soup.select('div.chart-content.col-xs-12.col-sm-8 > p > cite')\n",
    "\n",
    "\n",
    "\n",
    "# iterate through the result set and retrive all the data\n",
    "for i in range(num_iter):\n",
    "    artist.append(artist_list[i].get_text())\n",
    "    title.append(title_list[i].get_text())\n",
    "\n",
    "#print(title)\n",
    "#print(artist)"
   ]
  },
  {
   "cell_type": "code",
   "execution_count": 4,
   "id": "6e8d8a55",
   "metadata": {},
   "outputs": [
    {
     "data": {
      "text/html": [
       "<div>\n",
       "<style scoped>\n",
       "    .dataframe tbody tr th:only-of-type {\n",
       "        vertical-align: middle;\n",
       "    }\n",
       "\n",
       "    .dataframe tbody tr th {\n",
       "        vertical-align: top;\n",
       "    }\n",
       "\n",
       "    .dataframe thead th {\n",
       "        text-align: right;\n",
       "    }\n",
       "</style>\n",
       "<table border=\"1\" class=\"dataframe\">\n",
       "  <thead>\n",
       "    <tr style=\"text-align: right;\">\n",
       "      <th></th>\n",
       "      <th>Artist</th>\n",
       "      <th>Song</th>\n",
       "    </tr>\n",
       "  </thead>\n",
       "  <tbody>\n",
       "    <tr>\n",
       "      <th>0</th>\n",
       "      <td>Morgan Wallen</td>\n",
       "      <td>Last Night</td>\n",
       "    </tr>\n",
       "    <tr>\n",
       "      <th>1</th>\n",
       "      <td>Miley Cyrus</td>\n",
       "      <td>Flowers</td>\n",
       "    </tr>\n",
       "    <tr>\n",
       "      <th>2</th>\n",
       "      <td>Luke Combs</td>\n",
       "      <td>Fast Car</td>\n",
       "    </tr>\n",
       "    <tr>\n",
       "      <th>3</th>\n",
       "      <td>Jimin</td>\n",
       "      <td>Like Crazy (Deep House Remix)</td>\n",
       "    </tr>\n",
       "    <tr>\n",
       "      <th>4</th>\n",
       "      <td>Jimin</td>\n",
       "      <td>Like Crazy (UK Garage Remix)</td>\n",
       "    </tr>\n",
       "    <tr>\n",
       "      <th>...</th>\n",
       "      <td>...</td>\n",
       "      <td>...</td>\n",
       "    </tr>\n",
       "    <tr>\n",
       "      <th>95</th>\n",
       "      <td>Luke Combs</td>\n",
       "      <td>Going, Going, Gone</td>\n",
       "    </tr>\n",
       "    <tr>\n",
       "      <th>96</th>\n",
       "      <td>Russ</td>\n",
       "      <td>NASTY</td>\n",
       "    </tr>\n",
       "    <tr>\n",
       "      <th>97</th>\n",
       "      <td>Bad Omens</td>\n",
       "      <td>Just Pretend</td>\n",
       "    </tr>\n",
       "    <tr>\n",
       "      <th>98</th>\n",
       "      <td>Rema</td>\n",
       "      <td>Calm Down</td>\n",
       "    </tr>\n",
       "    <tr>\n",
       "      <th>99</th>\n",
       "      <td>Cody Johnson</td>\n",
       "      <td>'Til You Can't</td>\n",
       "    </tr>\n",
       "  </tbody>\n",
       "</table>\n",
       "<p>100 rows × 2 columns</p>\n",
       "</div>"
      ],
      "text/plain": [
       "           Artist                           Song\n",
       "0   Morgan Wallen                     Last Night\n",
       "1     Miley Cyrus                        Flowers\n",
       "2      Luke Combs                       Fast Car\n",
       "3           Jimin  Like Crazy (Deep House Remix)\n",
       "4           Jimin   Like Crazy (UK Garage Remix)\n",
       "..            ...                            ...\n",
       "95     Luke Combs             Going, Going, Gone\n",
       "96           Russ                          NASTY\n",
       "97      Bad Omens                   Just Pretend\n",
       "98           Rema                      Calm Down\n",
       "99   Cody Johnson                 'Til You Can't\n",
       "\n",
       "[100 rows x 2 columns]"
      ]
     },
     "execution_count": 4,
     "metadata": {},
     "output_type": "execute_result"
    }
   ],
   "source": [
    "# Storing it to a dataframe\n",
    "top100_2023 = pd.DataFrame({\"Artist\":artist, \"Song\":title})\n",
    "top100_2023"
   ]
  },
  {
   "cell_type": "code",
   "execution_count": 5,
   "id": "b488182b",
   "metadata": {},
   "outputs": [],
   "source": [
    "year=2023"
   ]
  },
  {
   "cell_type": "code",
   "execution_count": 6,
   "id": "933014fa",
   "metadata": {},
   "outputs": [],
   "source": [
    "top100_2023['Year']=year"
   ]
  },
  {
   "cell_type": "code",
   "execution_count": 7,
   "id": "2ef8f62b",
   "metadata": {},
   "outputs": [
    {
     "data": {
      "text/html": [
       "<div>\n",
       "<style scoped>\n",
       "    .dataframe tbody tr th:only-of-type {\n",
       "        vertical-align: middle;\n",
       "    }\n",
       "\n",
       "    .dataframe tbody tr th {\n",
       "        vertical-align: top;\n",
       "    }\n",
       "\n",
       "    .dataframe thead th {\n",
       "        text-align: right;\n",
       "    }\n",
       "</style>\n",
       "<table border=\"1\" class=\"dataframe\">\n",
       "  <thead>\n",
       "    <tr style=\"text-align: right;\">\n",
       "      <th></th>\n",
       "      <th>Artist</th>\n",
       "      <th>Song</th>\n",
       "      <th>Year</th>\n",
       "    </tr>\n",
       "  </thead>\n",
       "  <tbody>\n",
       "    <tr>\n",
       "      <th>0</th>\n",
       "      <td>Morgan Wallen</td>\n",
       "      <td>Last Night</td>\n",
       "      <td>2023</td>\n",
       "    </tr>\n",
       "    <tr>\n",
       "      <th>1</th>\n",
       "      <td>Miley Cyrus</td>\n",
       "      <td>Flowers</td>\n",
       "      <td>2023</td>\n",
       "    </tr>\n",
       "    <tr>\n",
       "      <th>2</th>\n",
       "      <td>Luke Combs</td>\n",
       "      <td>Fast Car</td>\n",
       "      <td>2023</td>\n",
       "    </tr>\n",
       "    <tr>\n",
       "      <th>3</th>\n",
       "      <td>Jimin</td>\n",
       "      <td>Like Crazy (Deep House Remix)</td>\n",
       "      <td>2023</td>\n",
       "    </tr>\n",
       "    <tr>\n",
       "      <th>4</th>\n",
       "      <td>Jimin</td>\n",
       "      <td>Like Crazy (UK Garage Remix)</td>\n",
       "      <td>2023</td>\n",
       "    </tr>\n",
       "    <tr>\n",
       "      <th>...</th>\n",
       "      <td>...</td>\n",
       "      <td>...</td>\n",
       "      <td>...</td>\n",
       "    </tr>\n",
       "    <tr>\n",
       "      <th>95</th>\n",
       "      <td>Luke Combs</td>\n",
       "      <td>Going, Going, Gone</td>\n",
       "      <td>2023</td>\n",
       "    </tr>\n",
       "    <tr>\n",
       "      <th>96</th>\n",
       "      <td>Russ</td>\n",
       "      <td>NASTY</td>\n",
       "      <td>2023</td>\n",
       "    </tr>\n",
       "    <tr>\n",
       "      <th>97</th>\n",
       "      <td>Bad Omens</td>\n",
       "      <td>Just Pretend</td>\n",
       "      <td>2023</td>\n",
       "    </tr>\n",
       "    <tr>\n",
       "      <th>98</th>\n",
       "      <td>Rema</td>\n",
       "      <td>Calm Down</td>\n",
       "      <td>2023</td>\n",
       "    </tr>\n",
       "    <tr>\n",
       "      <th>99</th>\n",
       "      <td>Cody Johnson</td>\n",
       "      <td>'Til You Can't</td>\n",
       "      <td>2023</td>\n",
       "    </tr>\n",
       "  </tbody>\n",
       "</table>\n",
       "<p>100 rows × 3 columns</p>\n",
       "</div>"
      ],
      "text/plain": [
       "           Artist                           Song  Year\n",
       "0   Morgan Wallen                     Last Night  2023\n",
       "1     Miley Cyrus                        Flowers  2023\n",
       "2      Luke Combs                       Fast Car  2023\n",
       "3           Jimin  Like Crazy (Deep House Remix)  2023\n",
       "4           Jimin   Like Crazy (UK Garage Remix)  2023\n",
       "..            ...                            ...   ...\n",
       "95     Luke Combs             Going, Going, Gone  2023\n",
       "96           Russ                          NASTY  2023\n",
       "97      Bad Omens                   Just Pretend  2023\n",
       "98           Rema                      Calm Down  2023\n",
       "99   Cody Johnson                 'Til You Can't  2023\n",
       "\n",
       "[100 rows x 3 columns]"
      ]
     },
     "execution_count": 7,
     "metadata": {},
     "output_type": "execute_result"
    }
   ],
   "source": [
    "top100_2023"
   ]
  },
  {
   "cell_type": "markdown",
   "id": "a4470005",
   "metadata": {},
   "source": [
    "#### Expanding"
   ]
  },
  {
   "cell_type": "markdown",
   "id": "d02eaf2c",
   "metadata": {},
   "source": []
  },
  {
   "cell_type": "code",
   "execution_count": 8,
   "id": "e5933f7a",
   "metadata": {},
   "outputs": [],
   "source": [
    "\n",
    "from time import sleep\n",
    "from random import randint\n"
   ]
  },
  {
   "cell_type": "code",
   "execution_count": 9,
   "id": "8bbede19",
   "metadata": {
    "scrolled": true
   },
   "outputs": [
    {
     "name": "stdout",
     "output_type": "stream",
     "text": [
      "0\n",
      "I will sleep for 2.374 seconds.\n",
      "1\n",
      "I will sleep for 2.798 seconds.\n",
      "2\n",
      "I will sleep for 0.948 seconds.\n",
      "3\n",
      "I will sleep for 2.321 seconds.\n",
      "4\n",
      "I will sleep for 2.688 seconds.\n",
      "5\n",
      "I will sleep for 1.422 seconds.\n",
      "6\n",
      "I will sleep for 2.438 seconds.\n",
      "7\n",
      "I will sleep for 2.95 seconds.\n"
     ]
    },
    {
     "data": {
      "text/html": [
       "<div>\n",
       "<style scoped>\n",
       "    .dataframe tbody tr th:only-of-type {\n",
       "        vertical-align: middle;\n",
       "    }\n",
       "\n",
       "    .dataframe tbody tr th {\n",
       "        vertical-align: top;\n",
       "    }\n",
       "\n",
       "    .dataframe thead th {\n",
       "        text-align: right;\n",
       "    }\n",
       "</style>\n",
       "<table border=\"1\" class=\"dataframe\">\n",
       "  <thead>\n",
       "    <tr style=\"text-align: right;\">\n",
       "      <th></th>\n",
       "      <th>Artist</th>\n",
       "      <th>Song</th>\n",
       "      <th>Year</th>\n",
       "    </tr>\n",
       "  </thead>\n",
       "  <tbody>\n",
       "    <tr>\n",
       "      <th>0</th>\n",
       "      <td>Eminem &amp; Rihanna</td>\n",
       "      <td>Love The Way You Lie</td>\n",
       "      <td>2010</td>\n",
       "    </tr>\n",
       "    <tr>\n",
       "      <th>1</th>\n",
       "      <td>Bruno Mars</td>\n",
       "      <td>Just the Way You Are</td>\n",
       "      <td>2010</td>\n",
       "    </tr>\n",
       "    <tr>\n",
       "      <th>2</th>\n",
       "      <td>Katy Perry &amp; Snoop Dogg</td>\n",
       "      <td>California Gurls</td>\n",
       "      <td>2010</td>\n",
       "    </tr>\n",
       "    <tr>\n",
       "      <th>3</th>\n",
       "      <td>Katy Perry</td>\n",
       "      <td>Firework</td>\n",
       "      <td>2010</td>\n",
       "    </tr>\n",
       "    <tr>\n",
       "      <th>4</th>\n",
       "      <td>Rihanna</td>\n",
       "      <td>Only girl (in the world)</td>\n",
       "      <td>2010</td>\n",
       "    </tr>\n",
       "    <tr>\n",
       "      <th>...</th>\n",
       "      <td>...</td>\n",
       "      <td>...</td>\n",
       "      <td>...</td>\n",
       "    </tr>\n",
       "    <tr>\n",
       "      <th>95</th>\n",
       "      <td>Kane Brown featuring Lauren Alaina</td>\n",
       "      <td>What Ifs</td>\n",
       "      <td>2017</td>\n",
       "    </tr>\n",
       "    <tr>\n",
       "      <th>96</th>\n",
       "      <td>Luke Combs</td>\n",
       "      <td>Hurricane</td>\n",
       "      <td>2017</td>\n",
       "    </tr>\n",
       "    <tr>\n",
       "      <th>97</th>\n",
       "      <td>Playboi Carti</td>\n",
       "      <td>Magnolia</td>\n",
       "      <td>2017</td>\n",
       "    </tr>\n",
       "    <tr>\n",
       "      <th>98</th>\n",
       "      <td>Camila Cabello</td>\n",
       "      <td>Never Be the Same</td>\n",
       "      <td>2017</td>\n",
       "    </tr>\n",
       "    <tr>\n",
       "      <th>99</th>\n",
       "      <td>SZA featuring Travis Scott</td>\n",
       "      <td>Love Galore</td>\n",
       "      <td>2017</td>\n",
       "    </tr>\n",
       "  </tbody>\n",
       "</table>\n",
       "<p>798 rows × 3 columns</p>\n",
       "</div>"
      ],
      "text/plain": [
       "                                Artist                      Song  Year\n",
       "0                     Eminem & Rihanna      Love The Way You Lie  2010\n",
       "1                           Bruno Mars      Just the Way You Are  2010\n",
       "2              Katy Perry & Snoop Dogg          California Gurls  2010\n",
       "3                           Katy Perry                  Firework  2010\n",
       "4                              Rihanna  Only girl (in the world)  2010\n",
       "..                                 ...                       ...   ...\n",
       "95  Kane Brown featuring Lauren Alaina                  What Ifs  2017\n",
       "96                          Luke Combs                 Hurricane  2017\n",
       "97                       Playboi Carti                  Magnolia  2017\n",
       "98                      Camila Cabello         Never Be the Same  2017\n",
       "99          SZA featuring Travis Scott               Love Galore  2017\n",
       "\n",
       "[798 rows x 3 columns]"
      ]
     },
     "execution_count": 9,
     "metadata": {},
     "output_type": "execute_result"
    }
   ],
   "source": [
    "def get_top100(start_year, end_year):\n",
    "    all_top100 = pd.DataFrame()\n",
    "    for year in range(start_year, end_year+1):\n",
    "        url = f\"https://playback.fm/charts/top-100-songs/{year}\"\n",
    "        response = requests.get(url)\n",
    "        soup = BeautifulSoup(response.content, \"html.parser\")\n",
    "        my_table = soup.find('table', {'class': 'chartTbl'})\n",
    "        songs = my_table.findAll('a')\n",
    "        top100 = []\n",
    "        for i in range(0, len(soup.select('.song')), 2):\n",
    "            artist = soup.select('.artist')[i//2].text.strip()\n",
    "            song = soup.select('.song')[i].text.strip()\n",
    "            top100.append({'Artist': artist, 'Song': song})\n",
    "        top100_df = pd.DataFrame(top100)\n",
    "        top100_df['Year'] = year\n",
    "        all_top100 = pd.concat([all_top100, top100_df])\n",
    "    for i in range(8):\n",
    "        print(i)\n",
    "        wait_time = randint(1,4000)\n",
    "        print(\"I will sleep for \" + str(wait_time/1000) + \" seconds.\")\n",
    "        sleep(wait_time/1000)\n",
    "    return all_top100\n",
    "  \n",
    "top100_all_years = get_top100(2010, 2017)  # i can select here from 1900 to 2021 but it takes ages to load. Limiting a bit\n",
    "top100_all_years"
   ]
  },
  {
   "cell_type": "code",
   "execution_count": null,
   "id": "871a663b",
   "metadata": {},
   "outputs": [],
   "source": [
    "top100_all_years=top100_all_years.iloc[::-1]  # inverting the dataframe"
   ]
  },
  {
   "cell_type": "code",
   "execution_count": null,
   "id": "6eece6a0",
   "metadata": {},
   "outputs": [],
   "source": []
  },
  {
   "cell_type": "markdown",
   "id": "e27f2489",
   "metadata": {},
   "source": [
    "#### Disclaimer: I have used a combination of stackoverflow and chatGPT to get the final codes"
   ]
  },
  {
   "cell_type": "markdown",
   "id": "7941e624",
   "metadata": {},
   "source": [
    "> Top 10 Cheating Songs of all time... for the comic relief - for now I am commeting it out"
   ]
  },
  {
   "cell_type": "markdown",
   "id": "ceb9498d",
   "metadata": {},
   "source": [
    "# url2='https://playback.fm/top-songs-about-cheating'\n",
    "\n",
    "response2 = requests.get(url2)\n",
    "response2.status_code \n",
    "\n",
    "soup2 = BeautifulSoup(response2.content, \"html.parser\")\n",
    "#soup\n",
    "\n",
    "soup2.select(\"body > div.wrappercenter > div.wrapperbody.cf > div.playlist.post > div:nth-child(2) > h2\")  # copy SELECTOR\n",
    "\n",
    "soup2.select(\"h2\") # copy SELECTOR\n",
    "\n",
    "top_cheating=[]\n",
    "num_iter = len(soup2.select('h2'))\n",
    "cheating_list=soup2.select(\"h2\")\n",
    "for i in range(num_iter):\n",
    "    top_cheating.append(cheating_list[i].get_text())\n",
    "    \n",
    "\n",
    "top_cheating\n",
    "\n",
    "cleaned_list = [song.strip() for song in top_cheating if song not in ['Top 10 Country Songs in 1958', 'Some cool stuff...', 'You might also like']]\n",
    "\n",
    "cleaned_list \n",
    "\n",
    "song_artist_list = []\n",
    "for item in cleaned_list:\n",
    "    song, artist = item.split(\"by\")\n",
    "    song_artist_dict = {\"song\": song.strip(), \"artist\": artist.strip()}\n",
    "    song_artist_list.append(song_artist_dict)\n",
    "\n",
    "song_artist_list \n",
    "\n",
    "top10_cheating=pd.DataFrame(song_artist_list)\n",
    "\n",
    "top10_cheating\n",
    "\n",
    "top10_cheating = top10_cheating.iloc[::-1]\n",
    "\n",
    "top10_cheating"
   ]
  },
  {
   "cell_type": "markdown",
   "id": "3a0feb1b",
   "metadata": {},
   "source": [
    "## END OF PART 1 / START OF PART 2"
   ]
  },
  {
   "cell_type": "markdown",
   "id": "a9c24208",
   "metadata": {},
   "source": [
    "##### Bringing the list of songs together. For now I have just selected Top 100 from the past 10 years"
   ]
  },
  {
   "cell_type": "code",
   "execution_count": 10,
   "id": "14109d16",
   "metadata": {},
   "outputs": [
    {
     "data": {
      "text/html": [
       "<div>\n",
       "<style scoped>\n",
       "    .dataframe tbody tr th:only-of-type {\n",
       "        vertical-align: middle;\n",
       "    }\n",
       "\n",
       "    .dataframe tbody tr th {\n",
       "        vertical-align: top;\n",
       "    }\n",
       "\n",
       "    .dataframe thead th {\n",
       "        text-align: right;\n",
       "    }\n",
       "</style>\n",
       "<table border=\"1\" class=\"dataframe\">\n",
       "  <thead>\n",
       "    <tr style=\"text-align: right;\">\n",
       "      <th></th>\n",
       "      <th>Artist</th>\n",
       "      <th>Song</th>\n",
       "      <th>Year</th>\n",
       "    </tr>\n",
       "  </thead>\n",
       "  <tbody>\n",
       "    <tr>\n",
       "      <th>0</th>\n",
       "      <td>Morgan Wallen</td>\n",
       "      <td>Last Night</td>\n",
       "      <td>2023</td>\n",
       "    </tr>\n",
       "    <tr>\n",
       "      <th>1</th>\n",
       "      <td>Miley Cyrus</td>\n",
       "      <td>Flowers</td>\n",
       "      <td>2023</td>\n",
       "    </tr>\n",
       "    <tr>\n",
       "      <th>2</th>\n",
       "      <td>Luke Combs</td>\n",
       "      <td>Fast Car</td>\n",
       "      <td>2023</td>\n",
       "    </tr>\n",
       "    <tr>\n",
       "      <th>3</th>\n",
       "      <td>Jimin</td>\n",
       "      <td>Like Crazy (Deep House Remix)</td>\n",
       "      <td>2023</td>\n",
       "    </tr>\n",
       "    <tr>\n",
       "      <th>4</th>\n",
       "      <td>Jimin</td>\n",
       "      <td>Like Crazy (UK Garage Remix)</td>\n",
       "      <td>2023</td>\n",
       "    </tr>\n",
       "    <tr>\n",
       "      <th>...</th>\n",
       "      <td>...</td>\n",
       "      <td>...</td>\n",
       "      <td>...</td>\n",
       "    </tr>\n",
       "    <tr>\n",
       "      <th>893</th>\n",
       "      <td>Kane Brown featuring Lauren Alaina</td>\n",
       "      <td>What Ifs</td>\n",
       "      <td>2017</td>\n",
       "    </tr>\n",
       "    <tr>\n",
       "      <th>894</th>\n",
       "      <td>Luke Combs</td>\n",
       "      <td>Hurricane</td>\n",
       "      <td>2017</td>\n",
       "    </tr>\n",
       "    <tr>\n",
       "      <th>895</th>\n",
       "      <td>Playboi Carti</td>\n",
       "      <td>Magnolia</td>\n",
       "      <td>2017</td>\n",
       "    </tr>\n",
       "    <tr>\n",
       "      <th>896</th>\n",
       "      <td>Camila Cabello</td>\n",
       "      <td>Never Be the Same</td>\n",
       "      <td>2017</td>\n",
       "    </tr>\n",
       "    <tr>\n",
       "      <th>897</th>\n",
       "      <td>SZA featuring Travis Scott</td>\n",
       "      <td>Love Galore</td>\n",
       "      <td>2017</td>\n",
       "    </tr>\n",
       "  </tbody>\n",
       "</table>\n",
       "<p>898 rows × 3 columns</p>\n",
       "</div>"
      ],
      "text/plain": [
       "                                 Artist                           Song  Year\n",
       "0                         Morgan Wallen                     Last Night  2023\n",
       "1                           Miley Cyrus                        Flowers  2023\n",
       "2                            Luke Combs                       Fast Car  2023\n",
       "3                                 Jimin  Like Crazy (Deep House Remix)  2023\n",
       "4                                 Jimin   Like Crazy (UK Garage Remix)  2023\n",
       "..                                  ...                            ...   ...\n",
       "893  Kane Brown featuring Lauren Alaina                       What Ifs  2017\n",
       "894                          Luke Combs                      Hurricane  2017\n",
       "895                       Playboi Carti                       Magnolia  2017\n",
       "896                      Camila Cabello              Never Be the Same  2017\n",
       "897          SZA featuring Travis Scott                    Love Galore  2017\n",
       "\n",
       "[898 rows x 3 columns]"
      ]
     },
     "execution_count": 10,
     "metadata": {},
     "output_type": "execute_result"
    }
   ],
   "source": [
    "df=pd.concat([top100_2023, top100_all_years], axis=0).reset_index(drop=True)\n",
    "df"
   ]
  },
  {
   "cell_type": "code",
   "execution_count": 11,
   "id": "107dc8fa",
   "metadata": {},
   "outputs": [],
   "source": [
    "df['Artist'] = df['Artist'].str.lower()\n",
    "df['Song'] = df['Song'].str.lower()"
   ]
  },
  {
   "cell_type": "code",
   "execution_count": 12,
   "id": "2938089a",
   "metadata": {},
   "outputs": [
    {
     "data": {
      "text/plain": [
       "(898, 3)"
      ]
     },
     "execution_count": 12,
     "metadata": {},
     "output_type": "execute_result"
    }
   ],
   "source": [
    "df.shape"
   ]
  },
  {
   "cell_type": "code",
   "execution_count": null,
   "id": "bfc0986e",
   "metadata": {},
   "outputs": [],
   "source": [
    "#creating a input built into a function to generate a random choice of songs that are NOT the one just added by the user"
   ]
  },
  {
   "cell_type": "code",
   "execution_count": 41,
   "id": "1757a8d6",
   "metadata": {},
   "outputs": [],
   "source": [
    "def random_music(df):\n",
    "    preferred_song = input(\"Enter a song you like: \")\n",
    "    if preferred_song in df['Song'].values:\n",
    "        random_song = df[df['Song'] != preferred_song].sample()\n",
    "        recommended_song = random_song['Song'].item()\n",
    "        recommended_artist = random_song['Artist'].item()\n",
    "        print('Here is a recommendation of a song you might dig: {} by {}'.format(recommended_song, recommended_artist))\n",
    "    else:\n",
    "        print('Sorry, we don´t have a recommendation for that song')"
   ]
  },
  {
   "cell_type": "code",
   "execution_count": 42,
   "id": "75ba06f4",
   "metadata": {},
   "outputs": [
    {
     "name": "stdout",
     "output_type": "stream",
     "text": [
      "Enter a song you like: hurricane\n",
      "Here is a recommendation of a song you might dig: get lucky by daft punk\n"
     ]
    }
   ],
   "source": [
    "random_music(df)"
   ]
  },
  {
   "cell_type": "code",
   "execution_count": null,
   "id": "7e965733",
   "metadata": {},
   "outputs": [],
   "source": []
  }
 ],
 "metadata": {
  "kernelspec": {
   "display_name": "Python 3 (ipykernel)",
   "language": "python",
   "name": "python3"
  },
  "language_info": {
   "codemirror_mode": {
    "name": "ipython",
    "version": 3
   },
   "file_extension": ".py",
   "mimetype": "text/x-python",
   "name": "python",
   "nbconvert_exporter": "python",
   "pygments_lexer": "ipython3",
   "version": "3.9.13"
  }
 },
 "nbformat": 4,
 "nbformat_minor": 5
}
