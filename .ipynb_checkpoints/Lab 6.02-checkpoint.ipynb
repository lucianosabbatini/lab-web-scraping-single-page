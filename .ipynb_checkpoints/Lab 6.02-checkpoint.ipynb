{
 "cells": [
  {
   "cell_type": "code",
   "execution_count": 1,
   "id": "f5eee9f7",
   "metadata": {},
   "outputs": [],
   "source": [
    "import requests\n",
    "\n",
    "from bs4 import BeautifulSoup\n",
    "\n",
    "import pandas as pd"
   ]
  },
  {
   "cell_type": "markdown",
   "id": "06caa6a4",
   "metadata": {},
   "source": [
    "### 1-) Create a Python list with the top ten FBI's Most Wanted names: url = 'https://www.fbi.gov/wanted/topten'"
   ]
  },
  {
   "cell_type": "code",
   "execution_count": 2,
   "id": "db136194",
   "metadata": {},
   "outputs": [],
   "source": [
    "url='https://www.fbi.gov/wanted/topten'\n",
    "\n",
    "response = requests.get(url)\n",
    "response.status_code \n",
    "\n",
    "soup = BeautifulSoup(response.content, \"html.parser\")\n",
    "#soup"
   ]
  },
  {
   "cell_type": "code",
   "execution_count": 3,
   "id": "90d095bd",
   "metadata": {},
   "outputs": [
    {
     "data": {
      "text/plain": [
       "'ALEXIS FLORES'"
      ]
     },
     "execution_count": 3,
     "metadata": {},
     "output_type": "execute_result"
    }
   ],
   "source": [
    " # copy SELECTOR\n",
    "\n",
    "soup.select('#query-results-0f737222c5054a81a120bce207b0446a > ul > li:nth-child(1) > h3 > a')\n",
    "\n",
    "soup.select('#query-results-0f737222c5054a81a120bce207b0446a > ul > li:nth-child(1) > h3 > a')[0].get_text()\n",
    "\n",
    "\n",
    "\n",
    "# Selection of Names\n",
    "soup.select(' h3 > a')[1].get_text() \n",
    "\n"
   ]
  },
  {
   "cell_type": "code",
   "execution_count": 4,
   "id": "65e05d6a",
   "metadata": {},
   "outputs": [],
   "source": [
    "# Creating empty lists\n",
    "top10= []\n",
    "\n",
    "\n",
    "# Assigning the whole selection of names\n",
    "num_iter = len(soup.select(' h3 > a'))\n",
    "\n",
    "\n",
    "\n",
    "num_iter\n",
    "\n",
    "\n",
    "names_list = soup.select(' h3 > a')\n",
    "\n",
    "\n",
    "\n",
    "# iterate through the result set and retrive all the data\n",
    "for i in range(num_iter):\n",
    "    top10.append(names_list[i].get_text())\n",
    " \n",
    "#print(title)\n",
    "#print(artist)"
   ]
  },
  {
   "cell_type": "code",
   "execution_count": 5,
   "id": "309d65c6",
   "metadata": {},
   "outputs": [
    {
     "data": {
      "text/html": [
       "<div>\n",
       "<style scoped>\n",
       "    .dataframe tbody tr th:only-of-type {\n",
       "        vertical-align: middle;\n",
       "    }\n",
       "\n",
       "    .dataframe tbody tr th {\n",
       "        vertical-align: top;\n",
       "    }\n",
       "\n",
       "    .dataframe thead th {\n",
       "        text-align: right;\n",
       "    }\n",
       "</style>\n",
       "<table border=\"1\" class=\"dataframe\">\n",
       "  <thead>\n",
       "    <tr style=\"text-align: right;\">\n",
       "      <th></th>\n",
       "      <th>Name</th>\n",
       "    </tr>\n",
       "  </thead>\n",
       "  <tbody>\n",
       "    <tr>\n",
       "      <th>0</th>\n",
       "      <td>OMAR ALEXANDER CARDENAS</td>\n",
       "    </tr>\n",
       "    <tr>\n",
       "      <th>1</th>\n",
       "      <td>ALEXIS FLORES</td>\n",
       "    </tr>\n",
       "    <tr>\n",
       "      <th>2</th>\n",
       "      <td>BHADRESHKUMAR CHETANBHAI PATEL</td>\n",
       "    </tr>\n",
       "    <tr>\n",
       "      <th>3</th>\n",
       "      <td>ALEJANDRO ROSALES CASTILLO</td>\n",
       "    </tr>\n",
       "    <tr>\n",
       "      <th>4</th>\n",
       "      <td>YULAN ADONAY ARCHAGA CARIAS</td>\n",
       "    </tr>\n",
       "    <tr>\n",
       "      <th>5</th>\n",
       "      <td>RUJA IGNATOVA</td>\n",
       "    </tr>\n",
       "    <tr>\n",
       "      <th>6</th>\n",
       "      <td>ARNOLDO JIMENEZ</td>\n",
       "    </tr>\n",
       "    <tr>\n",
       "      <th>7</th>\n",
       "      <td>MICHAEL JAMES PRATT</td>\n",
       "    </tr>\n",
       "    <tr>\n",
       "      <th>8</th>\n",
       "      <td>JOSE RODOLFO VILLARREAL-HERNANDEZ</td>\n",
       "    </tr>\n",
       "    <tr>\n",
       "      <th>9</th>\n",
       "      <td>RAFAEL CARO-QUINTERO</td>\n",
       "    </tr>\n",
       "  </tbody>\n",
       "</table>\n",
       "</div>"
      ],
      "text/plain": [
       "                                Name\n",
       "0            OMAR ALEXANDER CARDENAS\n",
       "1                      ALEXIS FLORES\n",
       "2     BHADRESHKUMAR CHETANBHAI PATEL\n",
       "3         ALEJANDRO ROSALES CASTILLO\n",
       "4        YULAN ADONAY ARCHAGA CARIAS\n",
       "5                      RUJA IGNATOVA\n",
       "6                    ARNOLDO JIMENEZ\n",
       "7                MICHAEL JAMES PRATT\n",
       "8  JOSE RODOLFO VILLARREAL-HERNANDEZ\n",
       "9               RAFAEL CARO-QUINTERO"
      ]
     },
     "execution_count": 5,
     "metadata": {},
     "output_type": "execute_result"
    }
   ],
   "source": [
    "# Storing it to a dataframe\n",
    "top_10 = pd.DataFrame({\"Name\":top10})\n",
    "top_10"
   ]
  },
  {
   "cell_type": "markdown",
   "id": "d367fa70",
   "metadata": {},
   "source": [
    "### 2-) Retrieve an arbitrary Wikipedia page of \"Python\" and create a list of links on that page: url ='https://en.wikipedia.org/wiki/Python'"
   ]
  },
  {
   "cell_type": "code",
   "execution_count": 6,
   "id": "9e378e94",
   "metadata": {},
   "outputs": [],
   "source": [
    "url2='https://en.wikipedia.org/wiki/Python'\n",
    "\n",
    "response2 = requests.get(url2)\n",
    "response2.status_code \n",
    "\n",
    "soup2 = BeautifulSoup(response2.content, \"html.parser\")\n",
    "#soup"
   ]
  },
  {
   "cell_type": "code",
   "execution_count": 7,
   "id": "cf9d74c0",
   "metadata": {},
   "outputs": [
    {
     "data": {
      "text/plain": [
       "[<a href=\"/wiki/Pythonidae\" title=\"Pythonidae\">Pythonidae</a>]"
      ]
     },
     "execution_count": 7,
     "metadata": {},
     "output_type": "execute_result"
    }
   ],
   "source": [
    "soup2.select('#mw-content-text > div.mw-parser-output > ul:nth-child(7) > li:nth-child(1) > a')\n",
    "\n",
    "#soup.select('#query-results-0f737222c5054a81a120bce207b0446a > ul > li:nth-child(1) > h3 > a')[0].get_text()\n",
    "\n",
    "#soup.select(' h3 > a')[1].get_text() "
   ]
  },
  {
   "cell_type": "code",
   "execution_count": 8,
   "id": "ae2b5722",
   "metadata": {},
   "outputs": [
    {
     "name": "stdout",
     "output_type": "stream",
     "text": [
      "['/wiki/Python', '/wiki/Python', '/wiki/Python', '/wiki/Pythonidae', '/wiki/Python_(genus)', '/wiki/Python_(mythology)', '/wiki/Python_(programming_language)', '/wiki/Python_of_Aenus', '/wiki/Python_(painter)', '/wiki/Python_of_Byzantium', '/wiki/Python_of_Catana', '/wiki/Python_Anghelo', '/wiki/Python_(Efteling)', '/wiki/Python_(Busch_Gardens_Tampa_Bay)', '/wiki/Python_(Coney_Island,_Cincinnati,_Ohio)', '/wiki/Python_(automobile_maker)', '/wiki/Python_(Ford_prototype)', '/wiki/Python_(missile)', '/wiki/Python_(nuclear_primary)', '/wiki/Python_(codename)', '/wiki/Python_(film)', '/wiki/Python_(Monty)_Pictures']\n"
     ]
    }
   ],
   "source": [
    "links = []\n",
    "for link in soup2.find_all('a'):\n",
    "    href = link.get('href')\n",
    "    if href and href.startswith('/wiki/Python'):\n",
    "        links.append(href)\n",
    "\n",
    "# Print the list of links\n",
    "print(links)"
   ]
  },
  {
   "cell_type": "code",
   "execution_count": 9,
   "id": "b643a246",
   "metadata": {},
   "outputs": [
    {
     "data": {
      "text/plain": [
       "['/wiki/Python',\n",
       " '/wiki/Python',\n",
       " '/wiki/Python',\n",
       " '/wiki/Pythonidae',\n",
       " '/wiki/Python_(genus)',\n",
       " '/wiki/Python_(mythology)',\n",
       " '/wiki/Python_(programming_language)',\n",
       " '/wiki/Python_of_Aenus',\n",
       " '/wiki/Python_(painter)',\n",
       " '/wiki/Python_of_Byzantium',\n",
       " '/wiki/Python_of_Catana',\n",
       " '/wiki/Python_Anghelo',\n",
       " '/wiki/Python_(Efteling)',\n",
       " '/wiki/Python_(Busch_Gardens_Tampa_Bay)',\n",
       " '/wiki/Python_(Coney_Island,_Cincinnati,_Ohio)',\n",
       " '/wiki/Python_(automobile_maker)',\n",
       " '/wiki/Python_(Ford_prototype)',\n",
       " '/wiki/Python_(missile)',\n",
       " '/wiki/Python_(nuclear_primary)',\n",
       " '/wiki/Python_(codename)',\n",
       " '/wiki/Python_(film)',\n",
       " '/wiki/Python_(Monty)_Pictures']"
      ]
     },
     "execution_count": 9,
     "metadata": {},
     "output_type": "execute_result"
    }
   ],
   "source": [
    "links"
   ]
  },
  {
   "cell_type": "code",
   "execution_count": 10,
   "id": "7eefa013",
   "metadata": {},
   "outputs": [],
   "source": [
    "url_wiki='https://en.wikipedia.org'"
   ]
  },
  {
   "cell_type": "code",
   "execution_count": 11,
   "id": "647df1f5",
   "metadata": {},
   "outputs": [],
   "source": [
    "links_results = [url_wiki + link for link in links]"
   ]
  },
  {
   "cell_type": "code",
   "execution_count": 28,
   "id": "b09bd3b7",
   "metadata": {},
   "outputs": [
    {
     "data": {
      "text/plain": [
       "['https://en.wikipedia.org/wiki/Python',\n",
       " 'https://en.wikipedia.org/wiki/Python',\n",
       " 'https://en.wikipedia.org/wiki/Python',\n",
       " 'https://en.wikipedia.org/wiki/Pythonidae',\n",
       " 'https://en.wikipedia.org/wiki/Python_(genus)',\n",
       " 'https://en.wikipedia.org/wiki/Python_(mythology)',\n",
       " 'https://en.wikipedia.org/wiki/Python_(programming_language)',\n",
       " 'https://en.wikipedia.org/wiki/Python_of_Aenus',\n",
       " 'https://en.wikipedia.org/wiki/Python_(painter)',\n",
       " 'https://en.wikipedia.org/wiki/Python_of_Byzantium',\n",
       " 'https://en.wikipedia.org/wiki/Python_of_Catana',\n",
       " 'https://en.wikipedia.org/wiki/Python_Anghelo',\n",
       " 'https://en.wikipedia.org/wiki/Python_(Efteling)',\n",
       " 'https://en.wikipedia.org/wiki/Python_(Busch_Gardens_Tampa_Bay)',\n",
       " 'https://en.wikipedia.org/wiki/Python_(Coney_Island,_Cincinnati,_Ohio)',\n",
       " 'https://en.wikipedia.org/wiki/Python_(automobile_maker)',\n",
       " 'https://en.wikipedia.org/wiki/Python_(Ford_prototype)',\n",
       " 'https://en.wikipedia.org/wiki/Python_(missile)',\n",
       " 'https://en.wikipedia.org/wiki/Python_(nuclear_primary)',\n",
       " 'https://en.wikipedia.org/wiki/Python_(codename)',\n",
       " 'https://en.wikipedia.org/wiki/Python_(film)',\n",
       " 'https://en.wikipedia.org/wiki/Python_(Monty)_Pictures']"
      ]
     },
     "execution_count": 28,
     "metadata": {},
     "output_type": "execute_result"
    }
   ],
   "source": [
    "links_results"
   ]
  },
  {
   "cell_type": "markdown",
   "id": "82bab60e",
   "metadata": {},
   "source": [
    "### Display the top 10 languages by number of native speakers stored in a pandas dataframe: url = 'https://en.wikipedia.org/wiki/List_of_languages_by_number_of_native_speakers'"
   ]
  },
  {
   "cell_type": "code",
   "execution_count": 13,
   "id": "5a6ae36c",
   "metadata": {
    "scrolled": false
   },
   "outputs": [],
   "source": [
    "url3='https://en.wikipedia.org/wiki/List_of_languages_by_number_of_native_speakers'\n",
    "\n",
    "response3 = requests.get(url3)\n",
    "response3.status_code \n",
    "\n",
    "soup3 = BeautifulSoup(response3.content, \"html.parser\")\n",
    "#soup3"
   ]
  },
  {
   "cell_type": "markdown",
   "id": "d516c0ad",
   "metadata": {},
   "source": [
    "> After carefully inspecting the HTML script all the table contents i.e. names of the countries which we intend to extract is under class Wikitable Sortable. So the first task is to find class ‘wikitable sortable’ in the HTML script."
   ]
  },
  {
   "cell_type": "code",
   "execution_count": 14,
   "id": "f4434b25",
   "metadata": {},
   "outputs": [],
   "source": [
    "my_table=soup3.find('table',{'class':'wikitable sortable'})"
   ]
  },
  {
   "cell_type": "code",
   "execution_count": 15,
   "id": "dbc952ad",
   "metadata": {},
   "outputs": [
    {
     "data": {
      "text/plain": [
       "<table class=\"wikitable sortable\">\n",
       "<caption>Top first languages by population per <i>CIA</i><sup class=\"reference\" id=\"cite_ref-CIA_8-1\"><a href=\"#cite_note-CIA-8\">[8]</a></sup>\n",
       "</caption>\n",
       "<tbody><tr>\n",
       "<th>Rank\n",
       "</th>\n",
       "<th>Language\n",
       "</th>\n",
       "<th>Percentage<br/>of world<br/>population<br/>(2018)\n",
       "</th></tr>\n",
       "<tr>\n",
       "<td>1</td>\n",
       "<td><a href=\"/wiki/Mandarin_Chinese\" title=\"Mandarin Chinese\">Mandarin Chinese</a></td>\n",
       "<td>12.3%\n",
       "</td></tr>\n",
       "<tr>\n",
       "<td>2</td>\n",
       "<td><a href=\"/wiki/Spanish_language\" title=\"Spanish language\">Spanish</a></td>\n",
       "<td>6.0%\n",
       "</td></tr>\n",
       "<tr>\n",
       "<td>3</td>\n",
       "<td><a href=\"/wiki/English_language\" title=\"English language\">English</a></td>\n",
       "<td>5.1%\n",
       "</td></tr>\n",
       "<tr>\n",
       "<td>3</td>\n",
       "<td><a class=\"mw-redirect\" href=\"/wiki/Arabic_language\" title=\"Arabic language\">Arabic</a></td>\n",
       "<td>5.1%\n",
       "</td></tr>\n",
       "<tr>\n",
       "<td>5</td>\n",
       "<td><a class=\"mw-redirect\" href=\"/wiki/Hindi_language\" title=\"Hindi language\">Hindi</a></td>\n",
       "<td>3.5%\n",
       "</td></tr>\n",
       "<tr>\n",
       "<td>6</td>\n",
       "<td><a href=\"/wiki/Bengali_language\" title=\"Bengali language\">Bengali</a></td>\n",
       "<td>3.3%\n",
       "</td></tr>\n",
       "<tr>\n",
       "<td>7</td>\n",
       "<td><a href=\"/wiki/Portuguese_language\" title=\"Portuguese language\">Portuguese</a></td>\n",
       "<td>3.0%\n",
       "</td></tr>\n",
       "<tr>\n",
       "<td>8</td>\n",
       "<td><a href=\"/wiki/Russian_language\" title=\"Russian language\">Russian</a></td>\n",
       "<td>2.1%\n",
       "</td></tr>\n",
       "<tr>\n",
       "<td>9</td>\n",
       "<td><a href=\"/wiki/Japanese_language\" title=\"Japanese language\">Japanese</a></td>\n",
       "<td>1.7%\n",
       "</td></tr>\n",
       "<tr>\n",
       "<td>10</td>\n",
       "<td><a href=\"/wiki/Lahnda\" title=\"Lahnda\">Western Punjabi</a></td>\n",
       "<td>1.3%\n",
       "</td></tr>\n",
       "<tr>\n",
       "<td>11</td>\n",
       "<td><a href=\"/wiki/Javanese_language\" title=\"Javanese language\">Javanese</a></td>\n",
       "<td>1.1%\n",
       "</td></tr></tbody></table>"
      ]
     },
     "execution_count": 15,
     "metadata": {},
     "output_type": "execute_result"
    }
   ],
   "source": [
    "my_table"
   ]
  },
  {
   "cell_type": "code",
   "execution_count": 16,
   "id": "32f7e7c0",
   "metadata": {},
   "outputs": [],
   "source": [
    "#Under table class ‘wikitable sortable’ we have links with country name as title."
   ]
  },
  {
   "cell_type": "code",
   "execution_count": 17,
   "id": "b5d162d8",
   "metadata": {},
   "outputs": [],
   "source": [
    "#Extracting all the links within <a>.\n",
    "links = my_table.findAll('a')"
   ]
  },
  {
   "cell_type": "code",
   "execution_count": 18,
   "id": "acf62e01",
   "metadata": {
    "scrolled": true
   },
   "outputs": [
    {
     "data": {
      "text/plain": [
       "[<a href=\"#cite_note-CIA-8\">[8]</a>,\n",
       " <a href=\"/wiki/Mandarin_Chinese\" title=\"Mandarin Chinese\">Mandarin Chinese</a>,\n",
       " <a href=\"/wiki/Spanish_language\" title=\"Spanish language\">Spanish</a>,\n",
       " <a href=\"/wiki/English_language\" title=\"English language\">English</a>,\n",
       " <a class=\"mw-redirect\" href=\"/wiki/Arabic_language\" title=\"Arabic language\">Arabic</a>,\n",
       " <a class=\"mw-redirect\" href=\"/wiki/Hindi_language\" title=\"Hindi language\">Hindi</a>,\n",
       " <a href=\"/wiki/Bengali_language\" title=\"Bengali language\">Bengali</a>,\n",
       " <a href=\"/wiki/Portuguese_language\" title=\"Portuguese language\">Portuguese</a>,\n",
       " <a href=\"/wiki/Russian_language\" title=\"Russian language\">Russian</a>,\n",
       " <a href=\"/wiki/Japanese_language\" title=\"Japanese language\">Japanese</a>,\n",
       " <a href=\"/wiki/Lahnda\" title=\"Lahnda\">Western Punjabi</a>,\n",
       " <a href=\"/wiki/Javanese_language\" title=\"Javanese language\">Javanese</a>]"
      ]
     },
     "execution_count": 18,
     "metadata": {},
     "output_type": "execute_result"
    }
   ],
   "source": [
    "links"
   ]
  },
  {
   "cell_type": "code",
   "execution_count": 19,
   "id": "1d0e4cdd",
   "metadata": {},
   "outputs": [],
   "source": [
    "#From the links, we have to extract the title which is the name of countries."
   ]
  },
  {
   "cell_type": "code",
   "execution_count": 20,
   "id": "28cfbfcf",
   "metadata": {},
   "outputs": [
    {
     "name": "stdout",
     "output_type": "stream",
     "text": [
      "[None, 'Mandarin Chinese', 'Spanish language', 'English language', 'Arabic language', 'Hindi language', 'Bengali language', 'Portuguese language', 'Russian language', 'Japanese language', 'Lahnda', 'Javanese language']\n"
     ]
    }
   ],
   "source": [
    "countries=[]\n",
    "for link in links:\n",
    "    countries.append(link.get('title'))\n",
    "print(countries)"
   ]
  },
  {
   "cell_type": "code",
   "execution_count": 21,
   "id": "6ab0f810",
   "metadata": {},
   "outputs": [],
   "source": [
    "#storing it in a dataframe\n",
    "df=pd.DataFrame(countries)"
   ]
  },
  {
   "cell_type": "code",
   "execution_count": 22,
   "id": "e36480b6",
   "metadata": {},
   "outputs": [],
   "source": [
    "#renaming the column\n",
    "df = df.rename(columns={0: 'Language'})"
   ]
  },
  {
   "cell_type": "code",
   "execution_count": 23,
   "id": "ffed6ba0",
   "metadata": {},
   "outputs": [],
   "source": [
    "#cleaning the languages\n",
    "df['Language']=df['Language'].str.replace('language', '')"
   ]
  },
  {
   "cell_type": "code",
   "execution_count": 24,
   "id": "92badc82",
   "metadata": {},
   "outputs": [
    {
     "data": {
      "text/html": [
       "<div>\n",
       "<style scoped>\n",
       "    .dataframe tbody tr th:only-of-type {\n",
       "        vertical-align: middle;\n",
       "    }\n",
       "\n",
       "    .dataframe tbody tr th {\n",
       "        vertical-align: top;\n",
       "    }\n",
       "\n",
       "    .dataframe thead th {\n",
       "        text-align: right;\n",
       "    }\n",
       "</style>\n",
       "<table border=\"1\" class=\"dataframe\">\n",
       "  <thead>\n",
       "    <tr style=\"text-align: right;\">\n",
       "      <th></th>\n",
       "      <th>Language</th>\n",
       "    </tr>\n",
       "  </thead>\n",
       "  <tbody>\n",
       "    <tr>\n",
       "      <th>0</th>\n",
       "      <td>None</td>\n",
       "    </tr>\n",
       "    <tr>\n",
       "      <th>1</th>\n",
       "      <td>Mandarin Chinese</td>\n",
       "    </tr>\n",
       "    <tr>\n",
       "      <th>2</th>\n",
       "      <td>Spanish</td>\n",
       "    </tr>\n",
       "    <tr>\n",
       "      <th>3</th>\n",
       "      <td>English</td>\n",
       "    </tr>\n",
       "    <tr>\n",
       "      <th>4</th>\n",
       "      <td>Arabic</td>\n",
       "    </tr>\n",
       "    <tr>\n",
       "      <th>5</th>\n",
       "      <td>Hindi</td>\n",
       "    </tr>\n",
       "    <tr>\n",
       "      <th>6</th>\n",
       "      <td>Bengali</td>\n",
       "    </tr>\n",
       "    <tr>\n",
       "      <th>7</th>\n",
       "      <td>Portuguese</td>\n",
       "    </tr>\n",
       "    <tr>\n",
       "      <th>8</th>\n",
       "      <td>Russian</td>\n",
       "    </tr>\n",
       "    <tr>\n",
       "      <th>9</th>\n",
       "      <td>Japanese</td>\n",
       "    </tr>\n",
       "    <tr>\n",
       "      <th>10</th>\n",
       "      <td>Lahnda</td>\n",
       "    </tr>\n",
       "    <tr>\n",
       "      <th>11</th>\n",
       "      <td>Javanese</td>\n",
       "    </tr>\n",
       "  </tbody>\n",
       "</table>\n",
       "</div>"
      ],
      "text/plain": [
       "            Language\n",
       "0               None\n",
       "1   Mandarin Chinese\n",
       "2           Spanish \n",
       "3           English \n",
       "4            Arabic \n",
       "5             Hindi \n",
       "6           Bengali \n",
       "7        Portuguese \n",
       "8           Russian \n",
       "9          Japanese \n",
       "10            Lahnda\n",
       "11         Javanese "
      ]
     },
     "execution_count": 24,
     "metadata": {},
     "output_type": "execute_result"
    }
   ],
   "source": [
    "df"
   ]
  },
  {
   "cell_type": "code",
   "execution_count": 25,
   "id": "98964e17",
   "metadata": {},
   "outputs": [],
   "source": [
    "#getting rid of the None and making it top 10\n",
    "df=df.drop([0, 11])"
   ]
  },
  {
   "cell_type": "code",
   "execution_count": 26,
   "id": "db0bc1c0",
   "metadata": {},
   "outputs": [
    {
     "data": {
      "text/html": [
       "<div>\n",
       "<style scoped>\n",
       "    .dataframe tbody tr th:only-of-type {\n",
       "        vertical-align: middle;\n",
       "    }\n",
       "\n",
       "    .dataframe tbody tr th {\n",
       "        vertical-align: top;\n",
       "    }\n",
       "\n",
       "    .dataframe thead th {\n",
       "        text-align: right;\n",
       "    }\n",
       "</style>\n",
       "<table border=\"1\" class=\"dataframe\">\n",
       "  <thead>\n",
       "    <tr style=\"text-align: right;\">\n",
       "      <th></th>\n",
       "      <th>Language</th>\n",
       "    </tr>\n",
       "  </thead>\n",
       "  <tbody>\n",
       "    <tr>\n",
       "      <th>1</th>\n",
       "      <td>Mandarin Chinese</td>\n",
       "    </tr>\n",
       "    <tr>\n",
       "      <th>2</th>\n",
       "      <td>Spanish</td>\n",
       "    </tr>\n",
       "    <tr>\n",
       "      <th>3</th>\n",
       "      <td>English</td>\n",
       "    </tr>\n",
       "    <tr>\n",
       "      <th>4</th>\n",
       "      <td>Arabic</td>\n",
       "    </tr>\n",
       "    <tr>\n",
       "      <th>5</th>\n",
       "      <td>Hindi</td>\n",
       "    </tr>\n",
       "    <tr>\n",
       "      <th>6</th>\n",
       "      <td>Bengali</td>\n",
       "    </tr>\n",
       "    <tr>\n",
       "      <th>7</th>\n",
       "      <td>Portuguese</td>\n",
       "    </tr>\n",
       "    <tr>\n",
       "      <th>8</th>\n",
       "      <td>Russian</td>\n",
       "    </tr>\n",
       "    <tr>\n",
       "      <th>9</th>\n",
       "      <td>Japanese</td>\n",
       "    </tr>\n",
       "    <tr>\n",
       "      <th>10</th>\n",
       "      <td>Lahnda</td>\n",
       "    </tr>\n",
       "  </tbody>\n",
       "</table>\n",
       "</div>"
      ],
      "text/plain": [
       "            Language\n",
       "1   Mandarin Chinese\n",
       "2           Spanish \n",
       "3           English \n",
       "4            Arabic \n",
       "5             Hindi \n",
       "6           Bengali \n",
       "7        Portuguese \n",
       "8           Russian \n",
       "9          Japanese \n",
       "10            Lahnda"
      ]
     },
     "execution_count": 26,
     "metadata": {},
     "output_type": "execute_result"
    }
   ],
   "source": [
    "df"
   ]
  },
  {
   "cell_type": "code",
   "execution_count": null,
   "id": "1c82c85f",
   "metadata": {},
   "outputs": [],
   "source": []
  }
 ],
 "metadata": {
  "kernelspec": {
   "display_name": "Python 3 (ipykernel)",
   "language": "python",
   "name": "python3"
  },
  "language_info": {
   "codemirror_mode": {
    "name": "ipython",
    "version": 3
   },
   "file_extension": ".py",
   "mimetype": "text/x-python",
   "name": "python",
   "nbconvert_exporter": "python",
   "pygments_lexer": "ipython3",
   "version": "3.9.13"
  }
 },
 "nbformat": 4,
 "nbformat_minor": 5
}
