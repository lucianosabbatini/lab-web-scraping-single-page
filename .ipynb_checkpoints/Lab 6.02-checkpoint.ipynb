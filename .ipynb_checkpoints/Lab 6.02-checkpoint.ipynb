{
 "cells": [
  {
   "cell_type": "code",
   "execution_count": 1,
   "id": "f5eee9f7",
   "metadata": {},
   "outputs": [],
   "source": [
    "import requests\n",
    "\n",
    "from bs4 import BeautifulSoup\n",
    "\n",
    "import pandas as pd"
   ]
  },
  {
   "cell_type": "code",
   "execution_count": null,
   "id": "db136194",
   "metadata": {},
   "outputs": [],
   "source": [
    "url='https://www.popvortex.com/music/charts/top-100-songs.php'\n",
    "\n",
    "response = requests.get(url)\n",
    "response.status_code "
   ]
  },
  {
   "cell_type": "code",
   "execution_count": null,
   "id": "ce1c5b36",
   "metadata": {},
   "outputs": [],
   "source": [
    "soup = BeautifulSoup(response.content, \"html.parser\")\n",
    "#soup"
   ]
  },
  {
   "cell_type": "code",
   "execution_count": null,
   "id": "90d095bd",
   "metadata": {},
   "outputs": [],
   "source": [
    "soup.select(\"#chart-position-1 > div.chart-content.col-xs-12.col-sm-8 > p\")  # copy SELECTOR\n",
    "\n",
    "soup.select('#chart-position-1 > div.chart-content.col-xs-12.col-sm-8 > p > cite')[0].get_text()\n",
    "\n",
    "# Selection of Song\n",
    "soup.select('div.chart-content.col-xs-12.col-sm-8 > p > cite')[1].get_text() \n",
    "\n",
    "# Selection of Artist\n",
    "soup.select('#chart-position-1 > div.chart-content.col-xs-12.col-sm-8 > p > em')[0].get_text()"
   ]
  },
  {
   "cell_type": "code",
   "execution_count": null,
   "id": "65e05d6a",
   "metadata": {},
   "outputs": [],
   "source": [
    "# Creating empty lists\n",
    "title = []\n",
    "artist = []\n",
    "\n",
    "# Assigning the whole selection of Song & Artist\n",
    "num_iter = len(soup.select('div.chart-content.col-xs-12.col-sm-8 > p'))\n",
    "\n",
    "\n",
    "\n",
    "num_iter\n",
    "\n",
    "# Separating the song and artist\n",
    "title_list = soup.select('div.chart-content.col-xs-12.col-sm-8 > p > cite')\n",
    "artist_list = soup.select('div.chart-content.col-xs-12.col-sm-8 > p > em')\n",
    "\n",
    "\n",
    "# iterate through the result set and retrive all the data\n",
    "for i in range(num_iter):\n",
    "    title.append(title_list[i].get_text())\n",
    "    artist.append(artist_list[i].get_text())\n",
    "\n",
    "#print(title)\n",
    "#print(artist)"
   ]
  },
  {
   "cell_type": "code",
   "execution_count": null,
   "id": "309d65c6",
   "metadata": {},
   "outputs": [],
   "source": [
    "# Storing it to a dataframe\n",
    "top100 = pd.DataFrame({\"song\":title,\"artist\":artist})\n",
    "top100"
   ]
  }
 ],
 "metadata": {
  "kernelspec": {
   "display_name": "Python 3 (ipykernel)",
   "language": "python",
   "name": "python3"
  },
  "language_info": {
   "codemirror_mode": {
    "name": "ipython",
    "version": 3
   },
   "file_extension": ".py",
   "mimetype": "text/x-python",
   "name": "python",
   "nbconvert_exporter": "python",
   "pygments_lexer": "ipython3",
   "version": "3.9.13"
  }
 },
 "nbformat": 4,
 "nbformat_minor": 5
}
