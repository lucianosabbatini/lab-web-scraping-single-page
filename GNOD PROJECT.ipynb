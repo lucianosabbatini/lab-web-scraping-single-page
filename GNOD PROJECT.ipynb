{
 "cells": [
  {
   "cell_type": "markdown",
   "id": "7ffbf1a8",
   "metadata": {},
   "source": [
    "# GNOD PROJECT"
   ]
  },
  {
   "cell_type": "markdown",
   "id": "fb1978a2",
   "metadata": {},
   "source": [
    "### Goals:\n",
    "> To improve our music recommender Gnoosic by giving users two new possibilities when searching for recommendations:\\\n",
    ">\\\n",
    "> 1-) Songs that are actually similar to the ones they picked from an acoustic point of view.\\\n",
    "> 2-) Songs that are popular around the world right now, independently from their tastes.\n",
    ">\n",
    "### How:\n",
    "> 1-) Collect new data sources for songs; APIs and/or web scrapping.\\\n",
    "> 2-) Create clusters of songs that are similar to each other.\\\n",
    "> 3-) Prioritize the recommendations of songs from that same group."
   ]
  },
  {
   "cell_type": "markdown",
   "id": "07a57114",
   "metadata": {},
   "source": [
    "## GNOD PROJECT PART 1"
   ]
  },
  {
   "cell_type": "code",
   "execution_count": 1,
   "id": "ea1e4478",
   "metadata": {},
   "outputs": [],
   "source": [
    "import requests\n",
    "\n",
    "from bs4 import BeautifulSoup\n",
    "\n",
    "import pandas as pd"
   ]
  },
  {
   "cell_type": "code",
   "execution_count": 2,
   "id": "abbfc884",
   "metadata": {},
   "outputs": [
    {
     "data": {
      "text/plain": [
       "200"
      ]
     },
     "execution_count": 2,
     "metadata": {},
     "output_type": "execute_result"
    }
   ],
   "source": [
    "url='https://www.popvortex.com/music/charts/top-100-songs.php'\n",
    "\n",
    "response = requests.get(url)\n",
    "response.status_code "
   ]
  },
  {
   "cell_type": "code",
   "execution_count": 3,
   "id": "9dbc661a",
   "metadata": {},
   "outputs": [],
   "source": [
    "soup = BeautifulSoup(response.content, \"html.parser\")\n",
    "#soup"
   ]
  },
  {
   "cell_type": "code",
   "execution_count": 4,
   "id": "a910516d",
   "metadata": {},
   "outputs": [
    {
     "data": {
      "text/plain": [
       "'Jimin'"
      ]
     },
     "execution_count": 4,
     "metadata": {},
     "output_type": "execute_result"
    }
   ],
   "source": [
    "soup.select(\"#chart-position-1 > div.chart-content.col-xs-12.col-sm-8 > p\")  # copy SELECTOR\n",
    "\n",
    "soup.select('#chart-position-1 > div.chart-content.col-xs-12.col-sm-8 > p > cite')[0].get_text()\n",
    "\n",
    "# Selection of Song\n",
    "soup.select('div.chart-content.col-xs-12.col-sm-8 > p > cite')[1].get_text() \n",
    "\n",
    "# Selection of Artist\n",
    "soup.select('#chart-position-1 > div.chart-content.col-xs-12.col-sm-8 > p > em')[0].get_text()"
   ]
  },
  {
   "cell_type": "code",
   "execution_count": 5,
   "id": "b56145ca",
   "metadata": {},
   "outputs": [],
   "source": [
    "# Creating empty lists\n",
    "title = []\n",
    "artist = []\n",
    "\n",
    "# Assigning the whole selection of Song & Artist\n",
    "num_iter = len(soup.select('div.chart-content.col-xs-12.col-sm-8 > p'))\n",
    "\n",
    "\n",
    "\n",
    "num_iter\n",
    "\n",
    "# Separating the song and artist\n",
    "title_list = soup.select('div.chart-content.col-xs-12.col-sm-8 > p > cite')\n",
    "artist_list = soup.select('div.chart-content.col-xs-12.col-sm-8 > p > em')\n",
    "\n",
    "\n",
    "# iterate through the result set and retrive all the data\n",
    "for i in range(num_iter):\n",
    "    title.append(title_list[i].get_text())\n",
    "    artist.append(artist_list[i].get_text())\n",
    "\n",
    "#print(title)\n",
    "#print(artist)"
   ]
  },
  {
   "cell_type": "code",
   "execution_count": 6,
   "id": "84918974",
   "metadata": {},
   "outputs": [
    {
     "data": {
      "text/html": [
       "<div>\n",
       "<style scoped>\n",
       "    .dataframe tbody tr th:only-of-type {\n",
       "        vertical-align: middle;\n",
       "    }\n",
       "\n",
       "    .dataframe tbody tr th {\n",
       "        vertical-align: top;\n",
       "    }\n",
       "\n",
       "    .dataframe thead th {\n",
       "        text-align: right;\n",
       "    }\n",
       "</style>\n",
       "<table border=\"1\" class=\"dataframe\">\n",
       "  <thead>\n",
       "    <tr style=\"text-align: right;\">\n",
       "      <th></th>\n",
       "      <th>song</th>\n",
       "      <th>artist</th>\n",
       "    </tr>\n",
       "  </thead>\n",
       "  <tbody>\n",
       "    <tr>\n",
       "      <th>0</th>\n",
       "      <td>Like Crazy (Deep House Remix)</td>\n",
       "      <td>Jimin</td>\n",
       "    </tr>\n",
       "    <tr>\n",
       "      <th>1</th>\n",
       "      <td>Flowers</td>\n",
       "      <td>Miley Cyrus</td>\n",
       "    </tr>\n",
       "    <tr>\n",
       "      <th>2</th>\n",
       "      <td>Last Night</td>\n",
       "      <td>Morgan Wallen</td>\n",
       "    </tr>\n",
       "    <tr>\n",
       "      <th>3</th>\n",
       "      <td>Like Crazy (UK Garage Remix)</td>\n",
       "      <td>Jimin</td>\n",
       "    </tr>\n",
       "    <tr>\n",
       "      <th>4</th>\n",
       "      <td>Fast Car</td>\n",
       "      <td>Luke Combs</td>\n",
       "    </tr>\n",
       "    <tr>\n",
       "      <th>...</th>\n",
       "      <td>...</td>\n",
       "      <td>...</td>\n",
       "    </tr>\n",
       "    <tr>\n",
       "      <th>95</th>\n",
       "      <td>Forever and Ever, Amen</td>\n",
       "      <td>Randy Travis</td>\n",
       "    </tr>\n",
       "    <tr>\n",
       "      <th>96</th>\n",
       "      <td>Cowgirls (feat. ERNEST)</td>\n",
       "      <td>Morgan Wallen</td>\n",
       "    </tr>\n",
       "    <tr>\n",
       "      <th>97</th>\n",
       "      <td>I'm Good (Blue)</td>\n",
       "      <td>David Guetta &amp; Bebe Rexha</td>\n",
       "    </tr>\n",
       "    <tr>\n",
       "      <th>98</th>\n",
       "      <td>Head Above Water</td>\n",
       "      <td>Avril Lavigne</td>\n",
       "    </tr>\n",
       "    <tr>\n",
       "      <th>99</th>\n",
       "      <td>Until I Found You</td>\n",
       "      <td>Stephen Sanchez</td>\n",
       "    </tr>\n",
       "  </tbody>\n",
       "</table>\n",
       "<p>100 rows × 2 columns</p>\n",
       "</div>"
      ],
      "text/plain": [
       "                             song                     artist\n",
       "0   Like Crazy (Deep House Remix)                      Jimin\n",
       "1                         Flowers                Miley Cyrus\n",
       "2                      Last Night              Morgan Wallen\n",
       "3    Like Crazy (UK Garage Remix)                      Jimin\n",
       "4                        Fast Car                 Luke Combs\n",
       "..                            ...                        ...\n",
       "95         Forever and Ever, Amen               Randy Travis\n",
       "96        Cowgirls (feat. ERNEST)              Morgan Wallen\n",
       "97                I'm Good (Blue)  David Guetta & Bebe Rexha\n",
       "98               Head Above Water              Avril Lavigne\n",
       "99              Until I Found You            Stephen Sanchez\n",
       "\n",
       "[100 rows x 2 columns]"
      ]
     },
     "execution_count": 6,
     "metadata": {},
     "output_type": "execute_result"
    }
   ],
   "source": [
    "# Storing it to a dataframe\n",
    "top100 = pd.DataFrame({\"song\":title,\"artist\":artist})\n",
    "top100"
   ]
  },
  {
   "cell_type": "markdown",
   "id": "3a65c3ca",
   "metadata": {},
   "source": [
    "#### END OF LAB 6.01 / START OF LAB 6.02"
   ]
  },
  {
   "cell_type": "markdown",
   "id": "c286e5fc",
   "metadata": {},
   "source": [
    "> Scrapping the Billboard Hot 100"
   ]
  },
  {
   "cell_type": "code",
   "execution_count": 12,
   "id": "62b8e945",
   "metadata": {},
   "outputs": [
    {
     "data": {
      "text/plain": [
       "'\\n\\n\\n\\t\\n\\t\\t\\n\\t\\t\\t\\t\\tFlowers\\t\\t\\n\\t\\t\\t\\t\\t\\n\\nMiley Cyrus\\n'"
      ]
     },
     "execution_count": 12,
     "metadata": {},
     "output_type": "execute_result"
    }
   ],
   "source": [
    "url2='https://www.billboard.com/charts/hot-100/'\n",
    "\n",
    "response2 = requests.get(url2)\n",
    "response2.status_code \n",
    "\n",
    "soup2 = BeautifulSoup(response2.content, \"html.parser\")\n",
    "\n",
    "soup2.select(\"#post-1479786 > div.charts-top-featured.\\/\\/.lrv-a-wrapper.lrv-u-padding-lr-00\\@mobile-max.u-padding-b-350\\@tablet.u-padding-b-250 > div > div.a-span2.lrv-u-padding-r-2.lrv-u-padding-r-00\\@mobile-max.lrv-u-height-100p > div.lrv-u-flex.lrv-u-justify-content-space-between.lrv-u-margin-b-2.lrv-u-margin-b-00\\@mobile-max.u-background-color-black\\@mobile-max.u-color-white\\@mobile-max.lrv-u-padding-lr-125\\@mobile-max > div:nth-child(1) > div > div:nth-child(2)\")  # copy SELECTOR\n",
    "\n",
    "soup2.select('#post-1479786 > div.charts-top-featured.\\/\\/.lrv-a-wrapper.lrv-u-padding-lr-00\\@mobile-max.u-padding-b-350\\@tablet.u-padding-b-250 > div > div.a-span2.lrv-u-padding-r-2.lrv-u-padding-r-00\\@mobile-max.lrv-u-height-100p > div.lrv-u-flex.lrv-u-justify-content-space-between.lrv-u-margin-b-2.lrv-u-margin-b-00\\@mobile-max.u-background-color-black\\@mobile-max.u-color-white\\@mobile-max.lrv-u-padding-lr-125\\@mobile-max > div:nth-child(1) > div > div:nth-child(2)')[0].get_text()\n",
    "\n"
   ]
  },
  {
   "cell_type": "code",
   "execution_count": null,
   "id": "e12caa28",
   "metadata": {},
   "outputs": [],
   "source": [
    "# Selection of Song\n",
    "soup.select('div.chart-content.col-xs-12.col-sm-8 > p > cite')[1].get_text() \n",
    "\n",
    "# Selection of Artist\n",
    "soup.select('#chart-position-1 > div.chart-content.col-xs-12.col-sm-8 > p > em')[0].get_text()\n",
    "\n",
    "# Creating empty lists\n",
    "title = []\n",
    "artist = []\n",
    "\n",
    "# Assigning the whole selection of Song & Artist\n",
    "num_iter = len(soup.select('div.chart-content.col-xs-12.col-sm-8 > p'))\n",
    "\n",
    "\n",
    "\n",
    "num_iter\n",
    "\n",
    "# Separating the song and artist\n",
    "title_list = soup.select('div.chart-content.col-xs-12.col-sm-8 > p > cite')\n",
    "artist_list = soup.select('div.chart-content.col-xs-12.col-sm-8 > p > em')\n",
    "\n",
    "\n",
    "# iterate through the result set and retrive all the data\n",
    "for i in range(num_iter):\n",
    "    title.append(title_list[i].get_text())\n",
    "    artist.append(artist_list[i].get_text())"
   ]
  },
  {
   "cell_type": "markdown",
   "id": "2c2427be",
   "metadata": {},
   "source": [
    "## GNOD PROJECT PART 2"
   ]
  },
  {
   "cell_type": "code",
   "execution_count": null,
   "id": "f768e091",
   "metadata": {},
   "outputs": [],
   "source": []
  }
 ],
 "metadata": {
  "kernelspec": {
   "display_name": "Python 3 (ipykernel)",
   "language": "python",
   "name": "python3"
  },
  "language_info": {
   "codemirror_mode": {
    "name": "ipython",
    "version": 3
   },
   "file_extension": ".py",
   "mimetype": "text/x-python",
   "name": "python",
   "nbconvert_exporter": "python",
   "pygments_lexer": "ipython3",
   "version": "3.9.13"
  }
 },
 "nbformat": 4,
 "nbformat_minor": 5
}
